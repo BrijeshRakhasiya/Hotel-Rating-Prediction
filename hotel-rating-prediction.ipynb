{
 "cells": [
  {
   "cell_type": "code",
   "execution_count": 1,
   "metadata": {
    "_cell_guid": "b1076dfc-b9ad-4769-8c92-a6c4dae69d19",
    "_uuid": "8f2839f25d086af736a60e9eeb907d3b93b6e0e5",
    "execution": {
     "iopub.execute_input": "2025-08-04T16:51:57.012233Z",
     "iopub.status.busy": "2025-08-04T16:51:57.011808Z",
     "iopub.status.idle": "2025-08-04T16:51:57.522919Z",
     "shell.execute_reply": "2025-08-04T16:51:57.522191Z",
     "shell.execute_reply.started": "2025-08-04T16:51:57.012206Z"
    },
    "trusted": true
   },
   "outputs": [
    {
     "name": "stdout",
     "output_type": "stream",
     "text": [
      "/kaggle/input/trip-advisor-hotel-reviews/tripadvisor_hotel_reviews.csv\n"
     ]
    }
   ],
   "source": [
    "# This Python 3 environment comes with many helpful analytics libraries installed\n",
    "# It is defined by the kaggle/python Docker image: https://github.com/kaggle/docker-python\n",
    "# For example, here's several helpful packages to load\n",
    "\n",
    "import numpy as np # linear algebra\n",
    "import pandas as pd # data processing, CSV file I/O (e.g. pd.read_csv)\n",
    "\n",
    "# Input data files are available in the read-only \"../input/\" directory\n",
    "# For example, running this (by clicking run or pressing Shift+Enter) will list all files under the input directory\n",
    "\n",
    "import os\n",
    "for dirname, _, filenames in os.walk('/kaggle/input'):\n",
    "    for filename in filenames:\n",
    "        print(os.path.join(dirname, filename))\n",
    "\n",
    "# You can write up to 20GB to the current directory (/kaggle/working/) that gets preserved as output when you create a version using \"Save & Run All\" \n",
    "# You can also write temporary files to /kaggle/temp/, but they won't be saved outside of the current session"
   ]
  },
  {
   "cell_type": "code",
   "execution_count": 2,
   "metadata": {
    "execution": {
     "iopub.execute_input": "2025-08-04T16:53:55.852656Z",
     "iopub.status.busy": "2025-08-04T16:53:55.852383Z",
     "iopub.status.idle": "2025-08-04T16:54:11.926605Z",
     "shell.execute_reply": "2025-08-04T16:54:11.925845Z",
     "shell.execute_reply.started": "2025-08-04T16:53:55.852635Z"
    },
    "trusted": true
   },
   "outputs": [
    {
     "name": "stderr",
     "output_type": "stream",
     "text": [
      "2025-08-04 16:53:59.273559: E external/local_xla/xla/stream_executor/cuda/cuda_fft.cc:477] Unable to register cuFFT factory: Attempting to register factory for plugin cuFFT when one has already been registered\n",
      "WARNING: All log messages before absl::InitializeLog() is called are written to STDERR\n",
      "E0000 00:00:1754326439.510364      36 cuda_dnn.cc:8310] Unable to register cuDNN factory: Attempting to register factory for plugin cuDNN when one has already been registered\n",
      "E0000 00:00:1754326439.579781      36 cuda_blas.cc:1418] Unable to register cuBLAS factory: Attempting to register factory for plugin cuBLAS when one has already been registered\n"
     ]
    }
   ],
   "source": [
    "import numpy as np\n",
    "import pandas as pd \n",
    "import matplotlib.pyplot as plt \n",
    "import seaborn as sns\n",
    "\n",
    "import re \n",
    "from nltk.corpus import stopwords \n",
    "\n",
    "from tensorflow.keras.preprocessing.text import Tokenizer \n",
    "from tensorflow.keras.preprocessing.sequence import pad_sequences\n",
    "\n",
    "from sklearn.model_selection import train_test_split \n",
    "\n",
    "import tensorflow as tf "
   ]
  },
  {
   "cell_type": "code",
   "execution_count": 3,
   "metadata": {
    "execution": {
     "iopub.execute_input": "2025-08-04T16:54:29.971375Z",
     "iopub.status.busy": "2025-08-04T16:54:29.970498Z",
     "iopub.status.idle": "2025-08-04T16:54:30.313753Z",
     "shell.execute_reply": "2025-08-04T16:54:30.312916Z",
     "shell.execute_reply.started": "2025-08-04T16:54:29.971349Z"
    },
    "trusted": true
   },
   "outputs": [],
   "source": [
    "df = pd.read_csv(\"/kaggle/input/trip-advisor-hotel-reviews/tripadvisor_hotel_reviews.csv\")\n"
   ]
  },
  {
   "cell_type": "code",
   "execution_count": 4,
   "metadata": {
    "execution": {
     "iopub.execute_input": "2025-08-04T16:54:34.547877Z",
     "iopub.status.busy": "2025-08-04T16:54:34.547141Z",
     "iopub.status.idle": "2025-08-04T16:54:34.569681Z",
     "shell.execute_reply": "2025-08-04T16:54:34.569007Z",
     "shell.execute_reply.started": "2025-08-04T16:54:34.547853Z"
    },
    "trusted": true
   },
   "outputs": [
    {
     "data": {
      "text/html": [
       "<div>\n",
       "<style scoped>\n",
       "    .dataframe tbody tr th:only-of-type {\n",
       "        vertical-align: middle;\n",
       "    }\n",
       "\n",
       "    .dataframe tbody tr th {\n",
       "        vertical-align: top;\n",
       "    }\n",
       "\n",
       "    .dataframe thead th {\n",
       "        text-align: right;\n",
       "    }\n",
       "</style>\n",
       "<table border=\"1\" class=\"dataframe\">\n",
       "  <thead>\n",
       "    <tr style=\"text-align: right;\">\n",
       "      <th></th>\n",
       "      <th>Review</th>\n",
       "      <th>Rating</th>\n",
       "    </tr>\n",
       "  </thead>\n",
       "  <tbody>\n",
       "    <tr>\n",
       "      <th>0</th>\n",
       "      <td>nice hotel expensive parking got good deal sta...</td>\n",
       "      <td>4</td>\n",
       "    </tr>\n",
       "    <tr>\n",
       "      <th>1</th>\n",
       "      <td>ok nothing special charge diamond member hilto...</td>\n",
       "      <td>2</td>\n",
       "    </tr>\n",
       "    <tr>\n",
       "      <th>2</th>\n",
       "      <td>nice rooms not 4* experience hotel monaco seat...</td>\n",
       "      <td>3</td>\n",
       "    </tr>\n",
       "    <tr>\n",
       "      <th>3</th>\n",
       "      <td>unique, great stay, wonderful time hotel monac...</td>\n",
       "      <td>5</td>\n",
       "    </tr>\n",
       "    <tr>\n",
       "      <th>4</th>\n",
       "      <td>great stay great stay, went seahawk game aweso...</td>\n",
       "      <td>5</td>\n",
       "    </tr>\n",
       "  </tbody>\n",
       "</table>\n",
       "</div>"
      ],
      "text/plain": [
       "                                              Review  Rating\n",
       "0  nice hotel expensive parking got good deal sta...       4\n",
       "1  ok nothing special charge diamond member hilto...       2\n",
       "2  nice rooms not 4* experience hotel monaco seat...       3\n",
       "3  unique, great stay, wonderful time hotel monac...       5\n",
       "4  great stay great stay, went seahawk game aweso...       5"
      ]
     },
     "execution_count": 4,
     "metadata": {},
     "output_type": "execute_result"
    }
   ],
   "source": [
    "df.head()"
   ]
  },
  {
   "cell_type": "code",
   "execution_count": 5,
   "metadata": {
    "execution": {
     "iopub.execute_input": "2025-08-04T16:55:12.355948Z",
     "iopub.status.busy": "2025-08-04T16:55:12.355381Z",
     "iopub.status.idle": "2025-08-04T16:55:12.381179Z",
     "shell.execute_reply": "2025-08-04T16:55:12.380515Z",
     "shell.execute_reply.started": "2025-08-04T16:55:12.355927Z"
    },
    "trusted": true
   },
   "outputs": [
    {
     "name": "stdout",
     "output_type": "stream",
     "text": [
      "<class 'pandas.core.frame.DataFrame'>\n",
      "RangeIndex: 20491 entries, 0 to 20490\n",
      "Data columns (total 2 columns):\n",
      " #   Column  Non-Null Count  Dtype \n",
      "---  ------  --------------  ----- \n",
      " 0   Review  20491 non-null  object\n",
      " 1   Rating  20491 non-null  int64 \n",
      "dtypes: int64(1), object(1)\n",
      "memory usage: 320.3+ KB\n"
     ]
    }
   ],
   "source": [
    "df.info()"
   ]
  },
  {
   "cell_type": "code",
   "execution_count": 6,
   "metadata": {
    "execution": {
     "iopub.execute_input": "2025-08-04T16:55:18.851686Z",
     "iopub.status.busy": "2025-08-04T16:55:18.851445Z",
     "iopub.status.idle": "2025-08-04T16:55:18.860080Z",
     "shell.execute_reply": "2025-08-04T16:55:18.859444Z",
     "shell.execute_reply.started": "2025-08-04T16:55:18.851669Z"
    },
    "trusted": true
   },
   "outputs": [],
   "source": [
    "stop_words = stopwords.words('english')\n"
   ]
  },
  {
   "cell_type": "code",
   "execution_count": 7,
   "metadata": {
    "execution": {
     "iopub.execute_input": "2025-08-04T16:55:25.620777Z",
     "iopub.status.busy": "2025-08-04T16:55:25.620358Z",
     "iopub.status.idle": "2025-08-04T16:55:25.626273Z",
     "shell.execute_reply": "2025-08-04T16:55:25.625359Z",
     "shell.execute_reply.started": "2025-08-04T16:55:25.620748Z"
    },
    "trusted": true
   },
   "outputs": [],
   "source": [
    "def process_text(text):\n",
    "    text = re.sub(r'\\d+', ' ', text)\n",
    "    text = text.split()\n",
    "    text = \" \".join([word for word in text if word.lower().strip() not in stop_words])\n",
    "    return text"
   ]
  },
  {
   "cell_type": "code",
   "execution_count": 8,
   "metadata": {
    "execution": {
     "iopub.execute_input": "2025-08-04T16:55:32.696112Z",
     "iopub.status.busy": "2025-08-04T16:55:32.695788Z",
     "iopub.status.idle": "2025-08-04T16:55:37.800031Z",
     "shell.execute_reply": "2025-08-04T16:55:37.799423Z",
     "shell.execute_reply.started": "2025-08-04T16:55:32.696091Z"
    },
    "trusted": true
   },
   "outputs": [],
   "source": [
    "reviews = df['Review'].apply(process_text)\n"
   ]
  },
  {
   "cell_type": "code",
   "execution_count": 9,
   "metadata": {
    "execution": {
     "iopub.execute_input": "2025-08-04T16:55:42.493404Z",
     "iopub.status.busy": "2025-08-04T16:55:42.492795Z",
     "iopub.status.idle": "2025-08-04T16:55:44.621048Z",
     "shell.execute_reply": "2025-08-04T16:55:44.620485Z",
     "shell.execute_reply.started": "2025-08-04T16:55:42.493381Z"
    },
    "trusted": true
   },
   "outputs": [],
   "source": [
    "num_words = 10000\n",
    "\n",
    "tokenizer = Tokenizer(num_words=num_words)\n",
    "tokenizer.fit_on_texts(reviews)\n",
    "\n",
    "sequences = tokenizer.texts_to_sequences(reviews)"
   ]
  },
  {
   "cell_type": "code",
   "execution_count": 10,
   "metadata": {
    "execution": {
     "iopub.execute_input": "2025-08-04T16:55:53.601708Z",
     "iopub.status.busy": "2025-08-04T16:55:53.601477Z",
     "iopub.status.idle": "2025-08-04T16:55:53.609991Z",
     "shell.execute_reply": "2025-08-04T16:55:53.609145Z",
     "shell.execute_reply.started": "2025-08-04T16:55:53.601693Z"
    },
    "trusted": true
   },
   "outputs": [
    {
     "name": "stdout",
     "output_type": "stream",
     "text": [
      "Max sequence length: 1833\n"
     ]
    }
   ],
   "source": [
    "max_seq_length = np.max(list(map(lambda x: len(x), sequences)))\n",
    "\n",
    "print(\"Max sequence length:\", max_seq_length)"
   ]
  },
  {
   "cell_type": "code",
   "execution_count": 11,
   "metadata": {
    "execution": {
     "iopub.execute_input": "2025-08-04T16:55:58.852206Z",
     "iopub.status.busy": "2025-08-04T16:55:58.851512Z",
     "iopub.status.idle": "2025-08-04T16:55:59.022917Z",
     "shell.execute_reply": "2025-08-04T16:55:59.022160Z",
     "shell.execute_reply.started": "2025-08-04T16:55:58.852184Z"
    },
    "trusted": true
   },
   "outputs": [],
   "source": [
    "inputs = pad_sequences(sequences, maxlen=max_seq_length, padding='post')"
   ]
  },
  {
   "cell_type": "code",
   "execution_count": 12,
   "metadata": {
    "execution": {
     "iopub.execute_input": "2025-08-04T16:56:05.500240Z",
     "iopub.status.busy": "2025-08-04T16:56:05.499922Z",
     "iopub.status.idle": "2025-08-04T16:56:05.505541Z",
     "shell.execute_reply": "2025-08-04T16:56:05.504796Z",
     "shell.execute_reply.started": "2025-08-04T16:56:05.500219Z"
    },
    "trusted": true
   },
   "outputs": [
    {
     "data": {
      "text/plain": [
       "array([[   8,    1,  174, ...,    0,    0,    0],\n",
       "       [ 139,  136,  262, ...,    0,    0,    0],\n",
       "       [   8,    9,   76, ...,    0,    0,    0],\n",
       "       ...,\n",
       "       [ 139,  733,    8, ...,    0,    0,    0],\n",
       "       [   1, 3785, 2479, ...,    0,    0,    0],\n",
       "       [  27, 1156,  187, ...,    0,    0,    0]], dtype=int32)"
      ]
     },
     "execution_count": 12,
     "metadata": {},
     "output_type": "execute_result"
    }
   ],
   "source": [
    "inputs"
   ]
  },
  {
   "cell_type": "markdown",
   "metadata": {},
   "source": [
    "# Encoding Labels\n"
   ]
  },
  {
   "cell_type": "code",
   "execution_count": 13,
   "metadata": {
    "execution": {
     "iopub.execute_input": "2025-08-04T16:56:16.859489Z",
     "iopub.status.busy": "2025-08-04T16:56:16.859227Z",
     "iopub.status.idle": "2025-08-04T16:56:16.867550Z",
     "shell.execute_reply": "2025-08-04T16:56:16.866825Z",
     "shell.execute_reply.started": "2025-08-04T16:56:16.859471Z"
    },
    "trusted": true
   },
   "outputs": [
    {
     "data": {
      "text/plain": [
       "Rating\n",
       "5    9054\n",
       "4    6039\n",
       "3    2184\n",
       "2    1793\n",
       "1    1421\n",
       "Name: count, dtype: int64"
      ]
     },
     "execution_count": 13,
     "metadata": {},
     "output_type": "execute_result"
    }
   ],
   "source": [
    "df['Rating'].value_counts()\n"
   ]
  },
  {
   "cell_type": "code",
   "execution_count": 14,
   "metadata": {
    "execution": {
     "iopub.execute_input": "2025-08-04T16:56:24.261562Z",
     "iopub.status.busy": "2025-08-04T16:56:24.261004Z",
     "iopub.status.idle": "2025-08-04T16:56:24.272610Z",
     "shell.execute_reply": "2025-08-04T16:56:24.272018Z",
     "shell.execute_reply.started": "2025-08-04T16:56:24.261542Z"
    },
    "trusted": true
   },
   "outputs": [],
   "source": [
    "labels = np.array(df['Rating'].apply(lambda x: 1 if x == 5 else 0))\n"
   ]
  },
  {
   "cell_type": "code",
   "execution_count": 15,
   "metadata": {
    "execution": {
     "iopub.execute_input": "2025-08-04T16:56:28.590221Z",
     "iopub.status.busy": "2025-08-04T16:56:28.589540Z",
     "iopub.status.idle": "2025-08-04T16:56:28.594791Z",
     "shell.execute_reply": "2025-08-04T16:56:28.594197Z",
     "shell.execute_reply.started": "2025-08-04T16:56:28.590198Z"
    },
    "trusted": true
   },
   "outputs": [
    {
     "data": {
      "text/plain": [
       "array([0, 0, 0, ..., 0, 0, 0])"
      ]
     },
     "execution_count": 15,
     "metadata": {},
     "output_type": "execute_result"
    }
   ],
   "source": [
    "labels"
   ]
  },
  {
   "cell_type": "markdown",
   "metadata": {},
   "source": [
    "# Splitting"
   ]
  },
  {
   "cell_type": "code",
   "execution_count": 16,
   "metadata": {
    "execution": {
     "iopub.execute_input": "2025-08-04T16:56:49.479158Z",
     "iopub.status.busy": "2025-08-04T16:56:49.478393Z",
     "iopub.status.idle": "2025-08-04T16:56:49.535238Z",
     "shell.execute_reply": "2025-08-04T16:56:49.534434Z",
     "shell.execute_reply.started": "2025-08-04T16:56:49.479132Z"
    },
    "trusted": true
   },
   "outputs": [],
   "source": [
    "train_inputs, test_inputs, train_labels, test_labels = train_test_split(inputs, labels, train_size=0.7, random_state=100)\n"
   ]
  },
  {
   "cell_type": "markdown",
   "metadata": {},
   "source": [
    "# Model Training"
   ]
  },
  {
   "cell_type": "code",
   "execution_count": 17,
   "metadata": {
    "execution": {
     "iopub.execute_input": "2025-08-04T16:57:51.265497Z",
     "iopub.status.busy": "2025-08-04T16:57:51.264985Z",
     "iopub.status.idle": "2025-08-04T16:57:53.922879Z",
     "shell.execute_reply": "2025-08-04T16:57:53.922144Z",
     "shell.execute_reply.started": "2025-08-04T16:57:51.265472Z"
    },
    "trusted": true
   },
   "outputs": [
    {
     "name": "stderr",
     "output_type": "stream",
     "text": [
      "/usr/local/lib/python3.11/dist-packages/keras/src/layers/core/embedding.py:90: UserWarning: Argument `input_length` is deprecated. Just remove it.\n",
      "  warnings.warn(\n",
      "I0000 00:00:1754326672.266233      36 gpu_device.cc:2022] Created device /job:localhost/replica:0/task:0/device:GPU:0 with 15513 MB memory:  -> device: 0, name: Tesla P100-PCIE-16GB, pci bus id: 0000:00:04.0, compute capability: 6.0\n"
     ]
    },
    {
     "data": {
      "image/png": "[encoded data removed]",
      "text/plain": [
       "<IPython.core.display.Image object>"
      ]
     },
     "execution_count": 17,
     "metadata": {},
     "output_type": "execute_result"
    }
   ],
   "source": [
    "embedding_dim = 128\n",
    "\n",
    "inputs = tf.keras.Input(shape=(max_seq_length,))\n",
    "\n",
    "embedding = tf.keras.layers.Embedding(\n",
    "    input_dim=num_words,\n",
    "    output_dim=embedding_dim,\n",
    "    input_length=max_seq_length\n",
    ")(inputs)\n",
    "\n",
    "gru = tf.keras.layers.Bidirectional(\n",
    "    tf.keras.layers.GRU(128, return_sequences=True)\n",
    ")(embedding)\n",
    "\n",
    "flatten = tf.keras.layers.Flatten()(gru)\n",
    "\n",
    "outputs = tf.keras.layers.Dense(1, activation='sigmoid')(flatten)\n",
    "\n",
    "\n",
    "model = tf.keras.Model(inputs, outputs)\n",
    "\n",
    "tf.keras.utils.plot_model(model)"
   ]
  },
  {
   "cell_type": "code",
   "execution_count": 18,
   "metadata": {
    "execution": {
     "iopub.execute_input": "2025-08-04T16:58:05.429450Z",
     "iopub.status.busy": "2025-08-04T16:58:05.428823Z",
     "iopub.status.idle": "2025-08-04T17:02:57.016389Z",
     "shell.execute_reply": "2025-08-04T17:02:57.015763Z",
     "shell.execute_reply.started": "2025-08-04T16:58:05.429424Z"
    },
    "trusted": true
   },
   "outputs": [
    {
     "name": "stdout",
     "output_type": "stream",
     "text": [
      "Epoch 1/20\n"
     ]
    },
    {
     "name": "stderr",
     "output_type": "stream",
     "text": [
      "I0000 00:00:1754326689.680248     118 cuda_dnn.cc:529] Loaded cuDNN version 90300\n"
     ]
    },
    {
     "name": "stdout",
     "output_type": "stream",
     "text": [
      "\u001b[1m359/359\u001b[0m \u001b[32m━━━━━━━━━━━━━━━━━━━━\u001b[0m\u001b[37m\u001b[0m \u001b[1m78s\u001b[0m 200ms/step - accuracy: 0.6691 - auc: 0.7139 - loss: 0.7674 - val_accuracy: 0.7316 - val_auc: 0.8858 - val_loss: 0.5373\n",
      "Epoch 2/20\n",
      "\u001b[1m359/359\u001b[0m \u001b[32m━━━━━━━━━━━━━━━━━━━━\u001b[0m\u001b[37m\u001b[0m \u001b[1m71s\u001b[0m 199ms/step - accuracy: 0.8654 - auc: 0.9393 - loss: 0.3139 - val_accuracy: 0.7741 - val_auc: 0.8681 - val_loss: 0.4679\n",
      "Epoch 3/20\n",
      "\u001b[1m359/359\u001b[0m \u001b[32m━━━━━━━━━━━━━━━━━━━━\u001b[0m\u001b[37m\u001b[0m \u001b[1m71s\u001b[0m 198ms/step - accuracy: 0.9634 - auc: 0.9934 - loss: 0.1176 - val_accuracy: 0.7560 - val_auc: 0.8496 - val_loss: 0.6881\n",
      "Epoch 4/20\n",
      "\u001b[1m359/359\u001b[0m \u001b[32m━━━━━━━━━━━━━━━━━━━━\u001b[0m\u001b[37m\u001b[0m \u001b[1m71s\u001b[0m 198ms/step - accuracy: 0.9932 - auc: 0.9998 - loss: 0.0270 - val_accuracy: 0.7661 - val_auc: 0.8371 - val_loss: 0.9706\n"
     ]
    }
   ],
   "source": [
    "model.compile(\n",
    "    optimizer='adam',\n",
    "    loss='binary_crossentropy',\n",
    "    metrics=[\n",
    "        'accuracy',\n",
    "        tf.keras.metrics.AUC(name='auc')\n",
    "    ]\n",
    ")\n",
    "\n",
    "history = model.fit(\n",
    "    train_inputs,\n",
    "    train_labels,\n",
    "    validation_split=0.2,\n",
    "    batch_size=32,\n",
    "    epochs=20,\n",
    "    callbacks=[\n",
    "        tf.keras.callbacks.EarlyStopping(\n",
    "            monitor='val_accuracy',\n",
    "            patience=2,\n",
    "            restore_best_weights=True\n",
    "        )\n",
    "    ]\n",
    ")"
   ]
  },
  {
   "cell_type": "markdown",
   "metadata": {},
   "source": [
    "# Results"
   ]
  },
  {
   "cell_type": "code",
   "execution_count": 19,
   "metadata": {
    "execution": {
     "iopub.execute_input": "2025-08-04T17:03:29.703782Z",
     "iopub.status.busy": "2025-08-04T17:03:29.702797Z",
     "iopub.status.idle": "2025-08-04T17:03:46.704308Z",
     "shell.execute_reply": "2025-08-04T17:03:46.703723Z",
     "shell.execute_reply.started": "2025-08-04T17:03:29.703747Z"
    },
    "trusted": true
   },
   "outputs": [
    {
     "name": "stdout",
     "output_type": "stream",
     "text": [
      "\u001b[1m193/193\u001b[0m \u001b[32m━━━━━━━━━━━━━━━━━━━━\u001b[0m\u001b[37m\u001b[0m \u001b[1m17s\u001b[0m 87ms/step - accuracy: 0.7736 - auc: 0.8564 - loss: 0.4893\n"
     ]
    },
    {
     "data": {
      "text/plain": [
       "[0.4841151833534241, 0.77244633436203, 0.860482931137085]"
      ]
     },
     "execution_count": 19,
     "metadata": {},
     "output_type": "execute_result"
    }
   ],
   "source": [
    "model.evaluate(test_inputs, test_labels)\n"
   ]
  },
  {
   "cell_type": "code",
   "execution_count": null,
   "metadata": {
    "trusted": true
   },
   "outputs": [],
   "source": []
  }
 ],
 "metadata": {
  "kaggle": {
   "accelerator": "gpu",
   "dataSources": [
    {
     "datasetId": 897156,
     "sourceId": 1526618,
     "sourceType": "datasetVersion"
    }
   ],
   "dockerImageVersionId": 31090,
   "isGpuEnabled": true,
   "isInternetEnabled": true,
   "language": "python",
   "sourceType": "notebook"
  },
  "kernelspec": {
   "display_name": "Python 3",
   "language": "python",
   "name": "python3"
  },
  "language_info": {
   "codemirror_mode": {
    "name": "ipython",
    "version": 3
   },
   "file_extension": ".py",
   "mimetype": "text/x-python",
   "name": "python",
   "nbconvert_exporter": "python",
   "pygments_lexer": "ipython3",
   "version": "3.10.16"
  }
 },
 "nbformat": 4,
 "nbformat_minor": 4
}
